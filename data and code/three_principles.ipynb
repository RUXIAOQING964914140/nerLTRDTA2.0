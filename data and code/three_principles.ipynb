{
 "cells": [
  {
   "cell_type": "code",
   "execution_count": 1,
   "id": "e06c2ce2",
   "metadata": {},
   "outputs": [],
   "source": [
    "from rdkit import Chem\n",
    "from rdkit.Chem.Scaffolds import MurckoScaffold\n",
    "from rdkit.Chem import Draw\n",
    "import numpy as np\n",
    "import pandas as pd\n",
    "from rdkit.Chem import AllChem\n",
    "from rdkit.Chem.Descriptors import NumValenceElectrons\n",
    "from rdkit.Chem import Descriptors\n",
    "from rdkit.Chem.rdMolDescriptors import GetUSRScore, GetUSRCAT"
   ]
  },
  {
   "cell_type": "code",
   "execution_count": null,
   "id": "af069eab",
   "metadata": {},
   "outputs": [],
   "source": [
    "#smile standardization\n",
    "path = 'Davis.csv'\n",
    "df=pd.read_csv(path)\n",
    "def Standardization(smi):\n",
    "    mol = Chem.MolFromSmiles(smi)\n",
    "    smi = Chem.MolToSmiles(mol)\n",
    "    return smi\n",
    "df['SMILES']=df[\"SMILES\"].apply(Standardization)\n",
    "save_path=\"Davis_sta.csv\"\n",
    "df.to_csv(save_path,index=False)"
   ]
  },
  {
   "cell_type": "code",
   "execution_count": 218,
   "id": "e829b69a",
   "metadata": {},
   "outputs": [],
   "source": [
    "#smile->sdf\n",
    "X = pd.read_csv('Davis_sta.csv')['SMILES']\n",
    "smilesList = X.tolist()\n",
    "mols = []\n",
    "for smiles in smilesList:\n",
    "    mol = AllChem.AddHs(Chem.MolFromSmiles(smiles))\n",
    "    AllChem.EmbedMolecule(mol,useRandomCoords=True)\n",
    "    AllChem.MMFFOptimizeMolecule(mol)\n",
    "    mols.append(mol)\n",
    "#print(mols)\n",
    "#work_patch = os.getcwd()\n",
    "writer = Chem.SDWriter('Davis.sdf')\n",
    "for i, mol in enumerate(mols):\n",
    "    \n",
    "    writer.write(mol)\n",
    "\n",
    "writer.close() \n"
   ]
  },
  {
   "cell_type": "code",
   "execution_count": 219,
   "id": "5a9c7ef5",
   "metadata": {},
   "outputs": [],
   "source": [
    "\n"
   ]
  },
  {
   "cell_type": "code",
   "execution_count": 220,
   "id": "b9ce0756",
   "metadata": {},
   "outputs": [],
   "source": []
  },
  {
   "cell_type": "code",
   "execution_count": 2,
   "id": "9699b9bb",
   "metadata": {},
   "outputs": [],
   "source": [
    "#Butina\n",
    "def ClusterFps(fps,cutoff=0.2):\n",
    "    from rdkit import DataStructs\n",
    "    from rdkit.ML.Cluster import Butina\n",
    "\n",
    "    # first generate the distance matrix:\n",
    "    dists = []\n",
    "    nfps = len(fps)\n",
    "    for i in range(1,nfps):\n",
    "        sims = DataStructs.BulkTanimotoSimilarity(fps[i],fps[:i])\n",
    "        dists.extend([1-x for x in sims])\n",
    "\n",
    "    # now cluster the data:\n",
    "    cs = Butina.ClusterData(dists,nfps,cutoff,isDistData=True)\n",
    "    return cs"
   ]
  },
  {
   "cell_type": "code",
   "execution_count": 3,
   "id": "fffe1a7b",
   "metadata": {},
   "outputs": [],
   "source": [
    "ms = [x for x in Chem.SDMolSupplier('Davis.sdf')]\n",
    "fps = [AllChem.GetMorganFingerprintAsBitVect(x,2,1024) for x in ms]\n",
    "clusters=ClusterFps(fps,cutoff=0.5)\n",
    "#print(clusters)\n"
   ]
  },
  {
   "cell_type": "code",
   "execution_count": null,
   "id": "c3ab568a",
   "metadata": {},
   "outputs": [],
   "source": [
    "#Compound scaffold\n",
    "drugbank_input = Chem.SDMolSupplier('Davis.sdf')\n",
    "drugbank = [m for m in drugbank_input if m]\n",
    "drugbank_atomic_scaffolds = [MurckoScaffold.GetScaffoldForMol(mol) for mol in drugbank]\n",
    "for i in drugbank_atomic_scaffolds:\n",
    "    i.Compute2DCoords()\n",
    "\n",
    "def genericize_scaffold(s):\n",
    "    \n",
    "    try:\n",
    "        return MurckoScaffold.MakeScaffoldGeneric(s)\n",
    "        \n",
    "    \n",
    "\n",
    "    except ValueError:\n",
    "        return None\n",
    "drugbank_grafh_scaffolds = [genericize_scaffold(s) for s in drugbank_atomic_scaffolds]\n",
    "#len(drugbank), len(drugbank_atomic_scaffolds), len(drugbank_grafh_scaffolds), len([x for x in drugbank_grafh_scaffolds if x == None])\n",
    "Chem.MolToSmiles(drugbank_grafh_scaffolds[0])\n",
    "\n",
    "for i in drugbank_grafh_scaffolds:\n",
    "    #print(i)\n",
    "    a = Chem.MolToSmiles(i)\n",
    "    print(a)\n",
    "scaffold_smiles = [Chem.MolToSmiles(scaffold) for scaffold in drugbank_grafh_scaffolds if scaffold != None]\n",
    "\n",
    "import collections\n",
    "counter=collections.Counter(scaffold_smiles)\n",
    "\n",
    "print(counter)\n",
    "\n",
    "\n",
    "\n"
   ]
  },
  {
   "cell_type": "code",
   "execution_count": null,
   "id": "79eba8cc",
   "metadata": {},
   "outputs": [],
   "source": [
    "#usrcat\n",
    "fh=open('Davis.txt')\n",
    "smis=[]\n",
    "for line in fh.readlines():\n",
    "    smi=line.strip()\n",
    "    smis.append(smi)\n",
    "#print(smis)\n",
    "mols3d=[]\n",
    "for smi in smis:\n",
    "    mol=Chem.MolFromSmiles(smi)\n",
    "    m2=Chem.AddHs(mol)\n",
    "    AllChem.EmbedMolecule(m2,useRandomCoords=True)\n",
    "    # maxIters默认是优化200次，有时不会收敛，建议设置成2000\n",
    "    opt_state=AllChem.MMFFOptimizeMolecule(m2,maxIters=2000)\n",
    "    #print(opt_state)\n",
    "    mols3d.append(m2)\n",
    "\n",
    "usrcats = [ GetUSRCAT( mol ) for mol in mols3d ]\n",
    "with open('Davis_usr.txt','wt') as f:\n",
    "    for i in range( len( usrcats )):\n",
    "        for j in range( len( usrcats )):\n",
    "            score = GetUSRScore( usrcats[ i ], usrcats[ j ] )\n",
    "            print(i,j,score,file = f)\n",
    "\n",
    "\n"
   ]
  }
 ],
 "metadata": {
  "kernelspec": {
   "display_name": "Python 3 (ipykernel)",
   "language": "python",
   "name": "python3"
  },
  "language_info": {
   "codemirror_mode": {
    "name": "ipython",
    "version": 3
   },
   "file_extension": ".py",
   "mimetype": "text/x-python",
   "name": "python",
   "nbconvert_exporter": "python",
   "pygments_lexer": "ipython3",
   "version": "3.9.12"
  }
 },
 "nbformat": 4,
 "nbformat_minor": 5
}
